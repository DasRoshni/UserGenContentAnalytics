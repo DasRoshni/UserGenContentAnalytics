{
 "cells": [
  {
   "cell_type": "code",
   "execution_count": 1,
   "metadata": {},
   "outputs": [],
   "source": [
    "from selenium import webdriver\n",
    "from bs4 import BeautifulSoup\n",
    "import csv\n",
    "import re\n",
    "\n",
    "COMMENTS_AMOUNT = 120\n",
    "\n",
    "forumUrl = 'https://forums.edmunds.com/discussion/2864/general/x/entry-level-luxury-performance-sedans/p{}'"
   ]
  },
  {
   "cell_type": "code",
   "execution_count": null,
   "metadata": {},
   "outputs": [],
   "source": [
    "def get_first_comments(amount=COMMENTS_AMOUNT):\n",
    "\tmessages = []\n",
    "\tdriver = webdriver.Chrome(\"C:\\Users\\Tomer\\Documents\\Studies\\UT\\User Generated Content Analytics\\Ex1\\chromedriver.exe\")\n",
    "\tfor pageNum in range(700):\n",
    "\t\tdriver.get(forumUrl.format(pageNum))\n",
    "\t\trawPageContents = driver.page_source\n",
    "\t\tsoup = BeautifulSoup(rawPageContents, 'html.parser')\n",
    "\t\tmessages.extend(map(lambda msgElement: msgElement.text.strip(),soup.find_all('div',{'class':'Message'})))\n",
    "\t\tif len(messages) >= COMMENTS_AMOUNT:\n",
    "\t\t\tbreak\n",
    "\treturn messages\n",
    "\t"
   ]
  },
  {
   "cell_type": "code",
   "execution_count": null,
   "metadata": {},
   "outputs": [],
   "source": [
    "def replace_models_with_brands(messages):\n",
    "\treplace_map = get_models_replace_map()"
   ]
  },
  {
   "cell_type": "code",
   "execution_count": null,
   "metadata": {},
   "outputs": [],
   "source": [
    "def get_models_replace_map():\n",
    "\treplace_map = {}\n",
    "\twith open(\"C:\\Users\\Tomer\\Documents\\Studies\\UT\\User Generated Content Analytics\\Ex1\\models.csv\") as f:\n",
    "\t\treplace_map = {row['model'].replace('\\xa0', ''): row['brand'].replace('\\xa0', '') for row in csv.DictReader(f,fieldnames=['brand','model'])}\n",
    "\treturn replace_map"
   ]
  },
  {
   "cell_type": "code",
   "execution_count": null,
   "metadata": {},
   "outputs": [],
   "source": [
    "def apply_model_brand_replacements(messages,replace_map):\n",
    "\tmanipulated_messages = []\n",
    "\tfor message in messages:\n",
    "\t\tmanipulated_message = message\n",
    "\t\tfor model,brand in replace_map.iteritems():\n",
    "\t\t\tre_expression = re.compile(r'\\b{}\\b'.format(re.escape(model)), re.IGNORECASE)\n",
    "\t\t\tmanipulated_message = re_expression.sub(brand, manipulated_message)\n",
    "\t\tmanipulated_messages.append(manipulated_message)\n",
    "\treturn manipulated_messages\n",
    "\n",
    "replace_map = get_models_replace_map()\n",
    "messages = get_first_comments()\n",
    "manipulated_messages = apply_model_brand_replacements(messages,replace_map)"
   ]
  }
 ],
 "metadata": {
  "kernelspec": {
   "display_name": "Python 3",
   "language": "python",
   "name": "python3"
  },
  "language_info": {
   "codemirror_mode": {
    "name": "ipython",
    "version": 3
   },
   "file_extension": ".py",
   "mimetype": "text/x-python",
   "name": "python",
   "nbconvert_exporter": "python",
   "pygments_lexer": "ipython3",
   "version": "3.6.5"
  }
 },
 "nbformat": 4,
 "nbformat_minor": 2
}
